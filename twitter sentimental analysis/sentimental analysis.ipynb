{
  "nbformat": 4,
  "nbformat_minor": 0,
  "metadata": {
    "colab": {
      "provenance": []
    },
    "kernelspec": {
      "name": "python3",
      "display_name": "Python 3"
    },
    "language_info": {
      "name": "python"
    }
  },
  "cells": [
    {
      "cell_type": "code",
      "execution_count": 24,
      "metadata": {
        "colab": {
          "base_uri": "https://localhost:8080/"
        },
        "id": "YVy-ErOG0LQM",
        "outputId": "bae96a68-b91b-48cf-a8f2-662d5adedacc"
      },
      "outputs": [
        {
          "output_type": "stream",
          "name": "stderr",
          "text": [
            "[nltk_data] Downloading package punkt to /root/nltk_data...\n",
            "[nltk_data]   Package punkt is already up-to-date!\n",
            "[nltk_data] Downloading package wordnet to /root/nltk_data...\n",
            "[nltk_data]   Package wordnet is already up-to-date!\n",
            "[nltk_data] Downloading package stopwords to /root/nltk_data...\n",
            "[nltk_data]   Package stopwords is already up-to-date!\n",
            "[nltk_data] Downloading package vader_lexicon to /root/nltk_data...\n",
            "[nltk_data]   Package vader_lexicon is already up-to-date!\n"
          ]
        },
        {
          "output_type": "execute_result",
          "data": {
            "text/plain": [
              "True"
            ]
          },
          "metadata": {},
          "execution_count": 24
        }
      ],
      "source": [
        "import pandas as pd\n",
        "from nltk.sentiment import SentimentIntensityAnalyzer\n",
        "from nltk.corpus import stopwords\n",
        "from  nltk.tokenize import word_tokenize\n",
        "import re\n",
        "import nltk\n",
        "nltk.download('punkt')\n",
        "nltk.download('wordnet')\n",
        "nltk.download('stopwords')\n",
        "nltk.download('vader_lexicon')"
      ]
    },
    {
      "cell_type": "code",
      "source": [
        "data = pd.read_csv('/content/twitter_training.csv')\n",
        "data=data.rename(columns={'2401':'id','Borderlands':'name','Positive': 'mood','im getting on borderlands and i will murder you all ,':'remarks'})\n",
        "data.columns"
      ],
      "metadata": {
        "colab": {
          "base_uri": "https://localhost:8080/"
        },
        "id": "TNK_jVnRyejm",
        "outputId": "de0fccd1-9852-43a3-a571-c7d52c53265c"
      },
      "execution_count": 25,
      "outputs": [
        {
          "output_type": "execute_result",
          "data": {
            "text/plain": [
              "Index(['id', 'name', 'mood', 'remarks'], dtype='object')"
            ]
          },
          "metadata": {},
          "execution_count": 25
        }
      ]
    },
    {
      "cell_type": "code",
      "source": [
        "clean=[]\n",
        "for i in data['remarks']:\n",
        "    clean.append(re.sub(r'[^\\w\\s]','',str(i)))\n",
        "stopword = stopwords.words('english')"
      ],
      "metadata": {
        "id": "-o-1qQ9EL9dd"
      },
      "execution_count": 32,
      "outputs": []
    },
    {
      "cell_type": "code",
      "source": [
        "data['remarks']= clean"
      ],
      "metadata": {
        "id": "hoMdXpiK1ixx"
      },
      "execution_count": 34,
      "outputs": []
    },
    {
      "cell_type": "code",
      "source": [
        "sentiment=SentimentIntensityAnalyzer()\n",
        "score = []\n",
        "for i in data['remarks']:\n",
        "  score.append(sentiment.polarity_scores(i))"
      ],
      "metadata": {
        "id": "OyWtuAt62MRs"
      },
      "execution_count": 38,
      "outputs": []
    },
    {
      "cell_type": "code",
      "source": [
        "dat=pd.DataFrame(score)\n",
        "data.join(dat)"
      ],
      "metadata": {
        "colab": {
          "base_uri": "https://localhost:8080/",
          "height": 467
        },
        "id": "_vPrytey2N5R",
        "outputId": "804b01bd-1b00-4214-ce8c-9e3e34fe9f8a"
      },
      "execution_count": 47,
      "outputs": [
        {
          "output_type": "execute_result",
          "data": {
            "text/plain": [
              "         id         name      mood  \\\n",
              "0      2401  Borderlands  Positive   \n",
              "1      2401  Borderlands  Positive   \n",
              "2      2401  Borderlands  Positive   \n",
              "3      2401  Borderlands  Positive   \n",
              "4      2401  Borderlands  Positive   \n",
              "...     ...          ...       ...   \n",
              "74676  9200       Nvidia  Positive   \n",
              "74677  9200       Nvidia  Positive   \n",
              "74678  9200       Nvidia  Positive   \n",
              "74679  9200       Nvidia  Positive   \n",
              "74680  9200       Nvidia  Positive   \n",
              "\n",
              "                                                 remarks  \\\n",
              "0      I am coming to the borders and I will kill you...   \n",
              "1      im getting on borderlands and i will kill you all   \n",
              "2      im coming on borderlands and i will murder you...   \n",
              "3      im getting on borderlands 2 and i will murder ...   \n",
              "4      im getting into borderlands and i can murder y...   \n",
              "...                                                  ...   \n",
              "74676  Just realized that the Windows partition of my...   \n",
              "74677  Just realized that my Mac window partition is ...   \n",
              "74678  Just realized the windows partition of my Mac ...   \n",
              "74679  Just realized between the windows partition of...   \n",
              "74680  Just like the windows partition of my Mac is l...   \n",
              "\n",
              "                                         pedicted_scores    neg    neu    pos  \\\n",
              "0      {'neg': 0.343, 'neu': 0.657, 'pos': 0.0, 'comp...  0.343  0.657  0.000   \n",
              "1      {'neg': 0.37, 'neu': 0.63, 'pos': 0.0, 'compou...  0.370  0.630  0.000   \n",
              "2      {'neg': 0.37, 'neu': 0.63, 'pos': 0.0, 'compou...  0.370  0.630  0.000   \n",
              "3      {'neg': 0.343, 'neu': 0.657, 'pos': 0.0, 'comp...  0.343  0.657  0.000   \n",
              "4      {'neg': 0.37, 'neu': 0.63, 'pos': 0.0, 'compou...  0.370  0.630  0.000   \n",
              "...                                                  ...    ...    ...    ...   \n",
              "74676  {'neg': 0.086, 'neu': 0.817, 'pos': 0.097, 'co...  0.086  0.817  0.097   \n",
              "74677  {'neg': 0.104, 'neu': 0.896, 'pos': 0.0, 'comp...  0.104  0.896  0.000   \n",
              "74678  {'neg': 0.091, 'neu': 0.909, 'pos': 0.0, 'comp...  0.091  0.909  0.000   \n",
              "74679  {'neg': 0.074, 'neu': 0.842, 'pos': 0.084, 'co...  0.074  0.842  0.084   \n",
              "74680  {'neg': 0.09, 'neu': 0.728, 'pos': 0.182, 'com...  0.090  0.728  0.182   \n",
              "\n",
              "       compound  \n",
              "0       -0.6908  \n",
              "1       -0.6908  \n",
              "2       -0.6908  \n",
              "3       -0.6908  \n",
              "4       -0.6908  \n",
              "...         ...  \n",
              "74676    0.0772  \n",
              "74677   -0.2960  \n",
              "74678   -0.2960  \n",
              "74679    0.0772  \n",
              "74680    0.3687  \n",
              "\n",
              "[74681 rows x 9 columns]"
            ],
            "text/html": [
              "\n",
              "  <div id=\"df-69b9445d-3055-49df-be8e-7282f1d94b8f\">\n",
              "    <div class=\"colab-df-container\">\n",
              "      <div>\n",
              "<style scoped>\n",
              "    .dataframe tbody tr th:only-of-type {\n",
              "        vertical-align: middle;\n",
              "    }\n",
              "\n",
              "    .dataframe tbody tr th {\n",
              "        vertical-align: top;\n",
              "    }\n",
              "\n",
              "    .dataframe thead th {\n",
              "        text-align: right;\n",
              "    }\n",
              "</style>\n",
              "<table border=\"1\" class=\"dataframe\">\n",
              "  <thead>\n",
              "    <tr style=\"text-align: right;\">\n",
              "      <th></th>\n",
              "      <th>id</th>\n",
              "      <th>name</th>\n",
              "      <th>mood</th>\n",
              "      <th>remarks</th>\n",
              "      <th>pedicted_scores</th>\n",
              "      <th>neg</th>\n",
              "      <th>neu</th>\n",
              "      <th>pos</th>\n",
              "      <th>compound</th>\n",
              "    </tr>\n",
              "  </thead>\n",
              "  <tbody>\n",
              "    <tr>\n",
              "      <th>0</th>\n",
              "      <td>2401</td>\n",
              "      <td>Borderlands</td>\n",
              "      <td>Positive</td>\n",
              "      <td>I am coming to the borders and I will kill you...</td>\n",
              "      <td>{'neg': 0.343, 'neu': 0.657, 'pos': 0.0, 'comp...</td>\n",
              "      <td>0.343</td>\n",
              "      <td>0.657</td>\n",
              "      <td>0.000</td>\n",
              "      <td>-0.6908</td>\n",
              "    </tr>\n",
              "    <tr>\n",
              "      <th>1</th>\n",
              "      <td>2401</td>\n",
              "      <td>Borderlands</td>\n",
              "      <td>Positive</td>\n",
              "      <td>im getting on borderlands and i will kill you all</td>\n",
              "      <td>{'neg': 0.37, 'neu': 0.63, 'pos': 0.0, 'compou...</td>\n",
              "      <td>0.370</td>\n",
              "      <td>0.630</td>\n",
              "      <td>0.000</td>\n",
              "      <td>-0.6908</td>\n",
              "    </tr>\n",
              "    <tr>\n",
              "      <th>2</th>\n",
              "      <td>2401</td>\n",
              "      <td>Borderlands</td>\n",
              "      <td>Positive</td>\n",
              "      <td>im coming on borderlands and i will murder you...</td>\n",
              "      <td>{'neg': 0.37, 'neu': 0.63, 'pos': 0.0, 'compou...</td>\n",
              "      <td>0.370</td>\n",
              "      <td>0.630</td>\n",
              "      <td>0.000</td>\n",
              "      <td>-0.6908</td>\n",
              "    </tr>\n",
              "    <tr>\n",
              "      <th>3</th>\n",
              "      <td>2401</td>\n",
              "      <td>Borderlands</td>\n",
              "      <td>Positive</td>\n",
              "      <td>im getting on borderlands 2 and i will murder ...</td>\n",
              "      <td>{'neg': 0.343, 'neu': 0.657, 'pos': 0.0, 'comp...</td>\n",
              "      <td>0.343</td>\n",
              "      <td>0.657</td>\n",
              "      <td>0.000</td>\n",
              "      <td>-0.6908</td>\n",
              "    </tr>\n",
              "    <tr>\n",
              "      <th>4</th>\n",
              "      <td>2401</td>\n",
              "      <td>Borderlands</td>\n",
              "      <td>Positive</td>\n",
              "      <td>im getting into borderlands and i can murder y...</td>\n",
              "      <td>{'neg': 0.37, 'neu': 0.63, 'pos': 0.0, 'compou...</td>\n",
              "      <td>0.370</td>\n",
              "      <td>0.630</td>\n",
              "      <td>0.000</td>\n",
              "      <td>-0.6908</td>\n",
              "    </tr>\n",
              "    <tr>\n",
              "      <th>...</th>\n",
              "      <td>...</td>\n",
              "      <td>...</td>\n",
              "      <td>...</td>\n",
              "      <td>...</td>\n",
              "      <td>...</td>\n",
              "      <td>...</td>\n",
              "      <td>...</td>\n",
              "      <td>...</td>\n",
              "      <td>...</td>\n",
              "    </tr>\n",
              "    <tr>\n",
              "      <th>74676</th>\n",
              "      <td>9200</td>\n",
              "      <td>Nvidia</td>\n",
              "      <td>Positive</td>\n",
              "      <td>Just realized that the Windows partition of my...</td>\n",
              "      <td>{'neg': 0.086, 'neu': 0.817, 'pos': 0.097, 'co...</td>\n",
              "      <td>0.086</td>\n",
              "      <td>0.817</td>\n",
              "      <td>0.097</td>\n",
              "      <td>0.0772</td>\n",
              "    </tr>\n",
              "    <tr>\n",
              "      <th>74677</th>\n",
              "      <td>9200</td>\n",
              "      <td>Nvidia</td>\n",
              "      <td>Positive</td>\n",
              "      <td>Just realized that my Mac window partition is ...</td>\n",
              "      <td>{'neg': 0.104, 'neu': 0.896, 'pos': 0.0, 'comp...</td>\n",
              "      <td>0.104</td>\n",
              "      <td>0.896</td>\n",
              "      <td>0.000</td>\n",
              "      <td>-0.2960</td>\n",
              "    </tr>\n",
              "    <tr>\n",
              "      <th>74678</th>\n",
              "      <td>9200</td>\n",
              "      <td>Nvidia</td>\n",
              "      <td>Positive</td>\n",
              "      <td>Just realized the windows partition of my Mac ...</td>\n",
              "      <td>{'neg': 0.091, 'neu': 0.909, 'pos': 0.0, 'comp...</td>\n",
              "      <td>0.091</td>\n",
              "      <td>0.909</td>\n",
              "      <td>0.000</td>\n",
              "      <td>-0.2960</td>\n",
              "    </tr>\n",
              "    <tr>\n",
              "      <th>74679</th>\n",
              "      <td>9200</td>\n",
              "      <td>Nvidia</td>\n",
              "      <td>Positive</td>\n",
              "      <td>Just realized between the windows partition of...</td>\n",
              "      <td>{'neg': 0.074, 'neu': 0.842, 'pos': 0.084, 'co...</td>\n",
              "      <td>0.074</td>\n",
              "      <td>0.842</td>\n",
              "      <td>0.084</td>\n",
              "      <td>0.0772</td>\n",
              "    </tr>\n",
              "    <tr>\n",
              "      <th>74680</th>\n",
              "      <td>9200</td>\n",
              "      <td>Nvidia</td>\n",
              "      <td>Positive</td>\n",
              "      <td>Just like the windows partition of my Mac is l...</td>\n",
              "      <td>{'neg': 0.09, 'neu': 0.728, 'pos': 0.182, 'com...</td>\n",
              "      <td>0.090</td>\n",
              "      <td>0.728</td>\n",
              "      <td>0.182</td>\n",
              "      <td>0.3687</td>\n",
              "    </tr>\n",
              "  </tbody>\n",
              "</table>\n",
              "<p>74681 rows × 9 columns</p>\n",
              "</div>\n",
              "      <button class=\"colab-df-convert\" onclick=\"convertToInteractive('df-69b9445d-3055-49df-be8e-7282f1d94b8f')\"\n",
              "              title=\"Convert this dataframe to an interactive table.\"\n",
              "              style=\"display:none;\">\n",
              "        \n",
              "  <svg xmlns=\"http://www.w3.org/2000/svg\" height=\"24px\"viewBox=\"0 0 24 24\"\n",
              "       width=\"24px\">\n",
              "    <path d=\"M0 0h24v24H0V0z\" fill=\"none\"/>\n",
              "    <path d=\"M18.56 5.44l.94 2.06.94-2.06 2.06-.94-2.06-.94-.94-2.06-.94 2.06-2.06.94zm-11 1L8.5 8.5l.94-2.06 2.06-.94-2.06-.94L8.5 2.5l-.94 2.06-2.06.94zm10 10l.94 2.06.94-2.06 2.06-.94-2.06-.94-.94-2.06-.94 2.06-2.06.94z\"/><path d=\"M17.41 7.96l-1.37-1.37c-.4-.4-.92-.59-1.43-.59-.52 0-1.04.2-1.43.59L10.3 9.45l-7.72 7.72c-.78.78-.78 2.05 0 2.83L4 21.41c.39.39.9.59 1.41.59.51 0 1.02-.2 1.41-.59l7.78-7.78 2.81-2.81c.8-.78.8-2.07 0-2.86zM5.41 20L4 18.59l7.72-7.72 1.47 1.35L5.41 20z\"/>\n",
              "  </svg>\n",
              "      </button>\n",
              "      \n",
              "  <style>\n",
              "    .colab-df-container {\n",
              "      display:flex;\n",
              "      flex-wrap:wrap;\n",
              "      gap: 12px;\n",
              "    }\n",
              "\n",
              "    .colab-df-convert {\n",
              "      background-color: #E8F0FE;\n",
              "      border: none;\n",
              "      border-radius: 50%;\n",
              "      cursor: pointer;\n",
              "      display: none;\n",
              "      fill: #1967D2;\n",
              "      height: 32px;\n",
              "      padding: 0 0 0 0;\n",
              "      width: 32px;\n",
              "    }\n",
              "\n",
              "    .colab-df-convert:hover {\n",
              "      background-color: #E2EBFA;\n",
              "      box-shadow: 0px 1px 2px rgba(60, 64, 67, 0.3), 0px 1px 3px 1px rgba(60, 64, 67, 0.15);\n",
              "      fill: #174EA6;\n",
              "    }\n",
              "\n",
              "    [theme=dark] .colab-df-convert {\n",
              "      background-color: #3B4455;\n",
              "      fill: #D2E3FC;\n",
              "    }\n",
              "\n",
              "    [theme=dark] .colab-df-convert:hover {\n",
              "      background-color: #434B5C;\n",
              "      box-shadow: 0px 1px 3px 1px rgba(0, 0, 0, 0.15);\n",
              "      filter: drop-shadow(0px 1px 2px rgba(0, 0, 0, 0.3));\n",
              "      fill: #FFFFFF;\n",
              "    }\n",
              "  </style>\n",
              "\n",
              "      <script>\n",
              "        const buttonEl =\n",
              "          document.querySelector('#df-69b9445d-3055-49df-be8e-7282f1d94b8f button.colab-df-convert');\n",
              "        buttonEl.style.display =\n",
              "          google.colab.kernel.accessAllowed ? 'block' : 'none';\n",
              "\n",
              "        async function convertToInteractive(key) {\n",
              "          const element = document.querySelector('#df-69b9445d-3055-49df-be8e-7282f1d94b8f');\n",
              "          const dataTable =\n",
              "            await google.colab.kernel.invokeFunction('convertToInteractive',\n",
              "                                                     [key], {});\n",
              "          if (!dataTable) return;\n",
              "\n",
              "          const docLinkHtml = 'Like what you see? Visit the ' +\n",
              "            '<a target=\"_blank\" href=https://colab.research.google.com/notebooks/data_table.ipynb>data table notebook</a>'\n",
              "            + ' to learn more about interactive tables.';\n",
              "          element.innerHTML = '';\n",
              "          dataTable['output_type'] = 'display_data';\n",
              "          await google.colab.output.renderOutput(dataTable, element);\n",
              "          const docLink = document.createElement('div');\n",
              "          docLink.innerHTML = docLinkHtml;\n",
              "          element.appendChild(docLink);\n",
              "        }\n",
              "      </script>\n",
              "    </div>\n",
              "  </div>\n",
              "  "
            ]
          },
          "metadata": {},
          "execution_count": 47
        }
      ]
    },
    {
      "cell_type": "code",
      "source": [
        "dat.mean().plot(kind='bar', colormap= 'Set2', title='avg ratings')"
      ],
      "metadata": {
        "colab": {
          "base_uri": "https://localhost:8080/",
          "height": 341
        },
        "id": "Aeywk3bp6waZ",
        "outputId": "f8970dfd-5095-4cb1-ce82-32b199996826"
      },
      "execution_count": 78,
      "outputs": [
        {
          "output_type": "execute_result",
          "data": {
            "text/plain": [
              "<matplotlib.axes._subplots.AxesSubplot at 0x7fe8e4b55880>"
            ]
          },
          "metadata": {},
          "execution_count": 78
        },
        {
          "output_type": "display_data",
          "data": {
            "text/plain": [
              "<Figure size 432x288 with 1 Axes>"
            ],
            "image/png": "[encoded data removed]"
          },
          "metadata": {
            "needs_background": "light"
          }
        }
      ]
    },
    {
      "cell_type": "code",
      "source": [],
      "metadata": {
        "id": "iyfTisRcPhNP"
      },
      "execution_count": null,
      "outputs": []
    }
  ]
}